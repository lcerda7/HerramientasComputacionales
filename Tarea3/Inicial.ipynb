{
 "cells": [
  {
   "cell_type": "code",
   "execution_count": null,
   "id": "8704fb76",
   "metadata": {},
   "outputs": [],
   "source": [
    "pip install wwo-hist\n",
    "\n",
    "\n"
   ]
  },
  {
   "cell_type": "code",
   "execution_count": null,
   "id": "097267f8",
   "metadata": {},
   "outputs": [],
   "source": [
    "from wwo_hist import retrieve_hist_data"
   ]
  },
  {
   "cell_type": "code",
   "execution_count": null,
   "id": "0eebebee",
   "metadata": {},
   "outputs": [],
   "source": [
    "import os\n",
    "os.chdir(\".\\YOUR_PATH\")"
   ]
  },
  {
   "cell_type": "code",
   "execution_count": null,
   "id": "4a0b2b19",
   "metadata": {},
   "outputs": [],
   "source": [
    "frequency=24\n",
    "start_date = '1-JAN-2015'\n",
    "end_date = '31-DEC-2015'\n",
    "api_key = '35b7a88fa68046849a6210511221107'\n",
    "location_list = ['20637 20653 20688 20740 20794 20871 21040 21158 21208 21241 21411 21502 21536 21625 21638 21639 21643 21650 21704 21742 21801 21811 21853 21912\n",
    "']\n",
    "\n",
    "hist_weather_data = retrieve_hist_data(api_key,\n",
    "                                location_list,\n",
    "                                start_date,\n",
    "                                end_date,\n",
    "                                frequency,\n",
    "                                location_label = False,\n",
    "                                export_csv = True,\n",
    "                                store_df = True)"
   ]
  }
 ],
 "metadata": {
  "kernelspec": {
   "display_name": "Python 3 (ipykernel)",
   "language": "python",
   "name": "python3"
  },
  "language_info": {
   "codemirror_mode": {
    "name": "ipython",
    "version": 3
   },
   "file_extension": ".py",
   "mimetype": "text/x-python",
   "name": "python",
   "nbconvert_exporter": "python",
   "pygments_lexer": "ipython3",
   "version": "3.9.7"
  }
 },
 "nbformat": 4,
 "nbformat_minor": 5
}
