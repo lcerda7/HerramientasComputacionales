{
  "nbformat": 4,
  "nbformat_minor": 0,
  "metadata": {
    "colab": {
      "name": "11/7/22 Python, weather, crime, etc.",
      "provenance": [],
      "collapsed_sections": [],
      "include_colab_link": true
    },
    "kernelspec": {
      "name": "python3",
      "display_name": "Python 3"
    }
  },
  "cells": [
    {
      "cell_type": "markdown",
      "metadata": {
        "id": "view-in-github",
        "colab_type": "text"
      },
      "source": [
        "<a href=\"https://colab.research.google.com/github/lcerda7/HerramientasComputacionales/blob/main/Clases/11_7_22_Python%2C_weather%2C_crime%2C_etc_.ipynb\" target=\"_parent\"><img src=\"https://colab.research.google.com/assets/colab-badge.svg\" alt=\"Open In Colab\"/></a>"
      ]
    },
    {
      "cell_type": "markdown",
      "metadata": {
        "id": "VbLWrTG9ZNVf"
      },
      "source": [
        "https://github.com/ekapope/WorldWeatherOnline\n",
        "\n",
        "API key generado haciéndose una cuenta en https://www.worldweatheronline.com/ - free trial por 30 días con 500 requests por día!\n",
        "\n",
        "Si les salta error es porque ya se gastó por hoy! Hacerse una cuenta para usarlo (uno por pareja - lo van a necesitar para la tarea).\n"
      ]
    },
    {
      "cell_type": "code",
      "source": [
        ""
      ],
      "metadata": {
        "id": "6aTJN87uVG6k"
      },
      "execution_count": null,
      "outputs": []
    },
    {
      "cell_type": "code",
      "metadata": {
        "id": "7fe_ZghfZ1Eu"
      },
      "source": [
        "# From datetime module import datetime class\n",
        "from datetime import datetime"
      ],
      "execution_count": null,
      "outputs": []
    },
    {
      "cell_type": "code",
      "metadata": {
        "id": "b8yRg9-SZ5Uu"
      },
      "source": [
        "# We then used now() method to create a datetime object containing the current local date and time.\n",
        "start_time = datetime.now()\n",
        "print(start_time)"
      ],
      "execution_count": null,
      "outputs": []
    },
    {
      "cell_type": "code",
      "metadata": {
        "id": "Nt53MVN7VIfw"
      },
      "source": [
        "import pandas as pd\n",
        "start_date = '11-DEC-2018'\n",
        "end_date = '31-DEC-2019'    \n",
        "    \n",
        "# create list of first day of month for range between start and end dates non-inclusive (open)\n",
        "# MS= month start frequency\n",
        "list_mon_begin = pd.date_range(start_date, end_date, freq='MS', closed='right')\n",
        "\n",
        "# .to_datetime converts argument to datetime\n",
        "list_mon_begin1 = [pd.Series(pd.to_datetime(start_date))]\n",
        "list_mon_begin2 = [pd.Series(list_mon_begin)]\n",
        "\n",
        "print(list_mon_begin)"
      ],
      "execution_count": null,
      "outputs": []
    },
    {
      "cell_type": "code",
      "metadata": {
        "id": "IKl3HogWfFJr"
      },
      "source": [
        "print(list_mon_begin1)\n",
        "print(list_mon_begin2)"
      ],
      "execution_count": null,
      "outputs": []
    },
    {
      "cell_type": "code",
      "metadata": {
        "id": "STxV_6ABe2cq"
      },
      "source": [
        "# convert to Series and add start_date at beginning\n",
        "list_mon_begin = pd.concat([pd.Series(pd.to_datetime(start_date)), pd.Series(list_mon_begin)], ignore_index=True)\n",
        "print(list_mon_begin)"
      ],
      "execution_count": null,
      "outputs": []
    },
    {
      "cell_type": "code",
      "metadata": {
        "id": "oTXaF6ynXf81"
      },
      "source": [
        "# create list of month end dates for range between start and end dates non-inclusive (open)\n",
        "# month end frequency\n",
        "list_mon_end = pd.date_range(start_date, end_date, freq='M', closed='left')\n",
        "# convert to Series and add end_date at end\n",
        "list_mon_end = pd.concat([pd.Series(list_mon_end), pd.Series(pd.to_datetime(end_date))], ignore_index=True)\n",
        "\n",
        "print(list_mon_end)"
      ],
      "execution_count": null,
      "outputs": []
    },
    {
      "cell_type": "code",
      "metadata": {
        "id": "lP_TVFYXf--i"
      },
      "source": [
        "# count number of months to be retrieved\n",
        "total_months = len(list_mon_begin)\n",
        "print(total_months)"
      ],
      "execution_count": null,
      "outputs": []
    },
    {
      "cell_type": "code",
      "metadata": {
        "id": "UqDjgWcRgFfx"
      },
      "source": [
        "# initialize df_hist to store return data\n",
        "df_hist = pd.DataFrame()"
      ],
      "execution_count": null,
      "outputs": []
    },
    {
      "cell_type": "code",
      "metadata": {
        "id": "d0lVovaaidlS"
      },
      "source": [
        "frequency=24\n",
        "api_key = '535a0388efce401796922753220807'\n",
        "location_list = ['New+York']\n",
        "response_cache_path=None\n",
        "location='New+York'"
      ],
      "execution_count": null,
      "outputs": []
    },
    {
      "cell_type": "code",
      "metadata": {
        "id": "BFCD8fRVj8SY"
      },
      "source": [
        "import urllib\n",
        "import json\n",
        "import os"
      ],
      "execution_count": null,
      "outputs": []
    },
    {
      "cell_type": "markdown",
      "metadata": {
        "id": "_Z9u5gi5lWSv"
      },
      "source": [
        "JSON is a syntax for storing and exchanging data.\n",
        "JSON is text, written with JavaScript object notation.\n",
        "\n",
        "If you have a JSON string, you can parse it by using the `json.loads()` method. **The result will be a Python dictionary.**\n",
        "\n",
        "If you have a Python object, you can convert it into a JSON string by using the `json.dumps()` method."
      ]
    },
    {
      "cell_type": "code",
      "metadata": {
        "id": "k4CQILr_ol2F"
      },
      "source": [
        "import json\n",
        "# some JSON:\n",
        "x =  '{ \"name\":\"John\", \"age\":30, \"city\":\"New York\"}'\n",
        "# parse x:\n",
        "y = json.loads(x)\n",
        "# the result is a Python dictionary:\n",
        "print(y[\"age\"])"
      ],
      "execution_count": null,
      "outputs": []
    },
    {
      "cell_type": "code",
      "metadata": {
        "id": "css-wJlxodHm"
      },
      "source": [
        "print(y)"
      ],
      "execution_count": null,
      "outputs": []
    },
    {
      "cell_type": "code",
      "metadata": {
        "id": "iHTo54IbpUaO"
      },
      "source": [
        "import json\n",
        "x = {\n",
        "  \"name\": \"John\",\n",
        "  \"age\": 30,\n",
        "  \"married\": True,\n",
        "  \"divorced\": False,\n",
        "  \"children\": (\"Ann\",\"Billy\"),\n",
        "  \"pets\": None,\n",
        "  \"cars\": [\n",
        "    {\"model\": \"BMW 230\", \"mpg\": 27.5},\n",
        "    {\"model\": \"Ford Edge\", \"mpg\": 24.1}\n",
        "  ]\n",
        "}\n",
        "# convert into JSON:\n",
        "y = json.dumps(x)\n",
        "# the result is a JSON string:\n",
        "print(y)"
      ],
      "execution_count": null,
      "outputs": []
    },
    {
      "cell_type": "markdown",
      "metadata": {
        "id": "mD-J8I39qllG"
      },
      "source": [
        "`urllib` is a package that collects several modules for working with URLs ([Help](https://docs.python.org/3/library/urllib.html)):\n",
        "* `urllib.request` for opening and reading URLs\n",
        "* `urllib.error` containing the exceptions raised by urllib.request\n",
        "* `urllib.parse` for parsing URLs\n",
        "* `urllib.robotparser` for parsing robots.txt files"
      ]
    },
    {
      "cell_type": "code",
      "metadata": {
        "id": "JNwUk3rYumtW"
      },
      "source": [
        "import urllib.request\n",
        "with urllib.request.urlopen('http://api.worldweatheronline.com/premium/v1/past-weather.ashx?key=535a0388efce401796922753220807&q=New+York&format=json&date=2018-12-11&enddate=2018-12-12&tp=24') as response:\n",
        "   html = response.read()\n",
        "\n",
        "print(html)"
      ],
      "execution_count": null,
      "outputs": []
    },
    {
      "cell_type": "markdown",
      "metadata": {
        "id": "zOO68mfPZMNy"
      },
      "source": [
        ""
      ]
    },
    {
      "cell_type": "markdown",
      "metadata": {
        "id": "7yrNVsa0sgH4"
      },
      "source": [
        "OS module in Python provides functions for interacting with the operating system. \n",
        "\n",
        "`os.path.exists()` method in Python is used to check whether the specified path exists or not. This method can be also used to check whether the given path refers to an open file descriptor or not.\n",
        "\n",
        "Return Type: This method returns a Boolean value of class bool. This method returns True if path exists otherwise returns False."
      ]
    },
    {
      "cell_type": "code",
      "metadata": {
        "id": "zv1Er4IBwzdM"
      },
      "source": [
        ""
      ],
      "execution_count": null,
      "outputs": []
    },
    {
      "cell_type": "markdown",
      "metadata": {
        "id": "uqqvO8ROpzW4"
      },
      "source": [
        "# Seguimos..."
      ]
    },
    {
      "cell_type": "code",
      "metadata": {
        "id": "_lYZT1LuiKZR"
      },
      "source": [
        "for m in range(total_months):\n",
        "        start_d = str(list_mon_begin[m])[:10]\n",
        "        end_d = str(list_mon_end[m])[:10]\n",
        "        print(f'Esto es m {m}')\n",
        "        print(f'Esto es start_d {start_d}')\n",
        "        print(f'Esto es end_d {end_d}')\n"
      ],
      "execution_count": null,
      "outputs": []
    },
    {
      "cell_type": "code",
      "metadata": {
        "id": "DXCXOdXhrA7i"
      },
      "source": [
        "    for m in range(total_months):\n",
        "        start_d = str(list_mon_begin[m])[:10]\n",
        "        end_d = str(list_mon_end[m])[:10]\n",
        "        file_path = f'{response_cache_path}/{location}_{start_d}_{end_d}'\n",
        "        if response_cache_path and os.path.exists(file_path):\n",
        "            print('Reading cached data for ' + location + ': from ' + start_d + ' to ' + end_d)\n",
        "            with open(f'{response_cache_path}/{location}_{start_d}_{end_d}', 'r') as f:\n",
        "                json_data = json.load(f)\n",
        "        else:\n",
        "            print('Currently retrieving data for ' + location + ': from ' + start_d + ' to ' + end_d)\n",
        "            url_page = 'http://api.worldweatheronline.com/premium/v1/past-weather.ashx?key=' + api_key + '&q=' + location + '&format=json&date=' + start_d + '&enddate=' + end_d + '&tp=' + str(\n",
        "                frequency)\n",
        "            json_page = urllib.request.urlopen(url_page, timeout=10)\n",
        "            json_data = json.loads(json_page.read().decode())\n",
        "            "
      ],
      "execution_count": null,
      "outputs": []
    },
    {
      "cell_type": "code",
      "metadata": {
        "id": "T8Fa6LF1uHM4"
      },
      "source": [
        "print(json_data)"
      ],
      "execution_count": null,
      "outputs": []
    },
    {
      "cell_type": "code",
      "metadata": {
        "id": "1ScTOcEXxKru"
      },
      "source": [
        "        if response_cache_path:\n",
        "            with open(f'{response_cache_path}/{location}_{start_d}_{end_d}', 'w') as f:\n",
        "                json.dump(json_data, f)\n",
        "        data = json_data['data']['weather']\n",
        "        print(data)"
      ],
      "execution_count": null,
      "outputs": []
    },
    {
      "cell_type": "code",
      "metadata": {
        "id": "rk7GjsHoxBW0"
      },
      "source": [
        "num_days = len(data)\n",
        "# initialize df_month to store return data\n",
        "df_month = pd.DataFrame()\n",
        "for i in range(num_days):\n",
        "    # extract this day\n",
        "    d = data[i]\n",
        "    # astronomy data is the same for the whole day\n",
        "    astr_df = pd.DataFrame(d['astronomy'])\n",
        "    # hourly data; temperature for each hour of the day\n",
        "    hourly_df = pd.DataFrame(d['hourly'])\n",
        "    # this wanted_key will be duplicated and use 'ffill' to fill up the NAs\n",
        "    wanted_keys = ['date', 'maxtempC', 'mintempC', 'totalSnow_cm', 'sunHour', 'uvIndex']  # The keys you want\n",
        "    subset_d = dict((k, d[k]) for k in wanted_keys if k in d)\n",
        "    this_df = pd.DataFrame(subset_d, index=[0])\n",
        "    df = pd.concat([this_df.reset_index(drop=True), astr_df], axis=1)\n",
        "    # concat selected astonomy columns with hourly data\n",
        "    df = pd.concat([df, hourly_df], axis=1)\n",
        "    df = df.fillna(method='ffill')\n",
        "    # make date_time columm to proper format\n",
        "    # fill leading zero for hours to 4 digits (0000-2400 hr)\n",
        "    df['time'] = df['time'].apply(lambda x: x.zfill(4))\n",
        "    # keep only first 2 digit (00-24 hr) \n",
        "    df['time'] = df['time'].str[:2]\n",
        "    # convert to pandas datetime\n",
        "    df['date_time'] = pd.to_datetime(df['date'] + ' ' + df['time'])\n",
        "    # keep only interested columns\n",
        "    col_to_keep = ['date_time', 'maxtempC', 'mintempC', 'totalSnow_cm', 'sunHour', 'uvIndex',\n",
        "                   'moon_illumination', 'moonrise', 'moonset', 'sunrise', 'sunset',\n",
        "                   'DewPointC', 'FeelsLikeC', 'HeatIndexC', 'WindChillC', 'WindGustKmph',\n",
        "                   'cloudcover', 'humidity', 'precipMM', 'pressure', 'tempC', 'visibility',\n",
        "                   'winddirDegree', 'windspeedKmph']\n",
        "    df = df[col_to_keep]\n",
        "    df = df.loc[:,~df.columns.duplicated()]\n",
        "    df_month = pd.concat([df_month, df])"
      ],
      "execution_count": null,
      "outputs": []
    },
    {
      "cell_type": "code",
      "metadata": {
        "id": "wlnRMO7fyHpu"
      },
      "source": [
        "print(df_month)"
      ],
      "execution_count": null,
      "outputs": []
    },
    {
      "cell_type": "code",
      "metadata": {
        "id": "G7UH17OMkuID"
      },
      "source": [
        "# call function to extract json object\n",
        "df_this_month = df_month\n",
        "df_this_month['location'] = location\n",
        "df_hist = pd.concat([df_hist, df_this_month])\n",
        "\n",
        "print(df_hist)"
      ],
      "execution_count": null,
      "outputs": []
    }
  ]
}